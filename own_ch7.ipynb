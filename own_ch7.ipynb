{
 "cells": [
  {
   "cell_type": "code",
   "execution_count": 4,
   "id": "b4950ff1",
   "metadata": {},
   "outputs": [],
   "source": [
    "from sklearn.datasets import make_moons\n",
    "\n",
    "X, y = make_moons(n_samples=10000, noise=0.15)"
   ]
  },
  {
   "cell_type": "code",
   "execution_count": 6,
   "id": "59999cbe",
   "metadata": {},
   "outputs": [],
   "source": [
    "from sklearn.model_selection import train_test_split\n",
    "\n",
    "X_train, X_test, y_train, y_test = train_test_split(X, y, test_size=0.2, random_state=42)"
   ]
  },
  {
   "cell_type": "code",
   "execution_count": 7,
   "id": "ea8e91c1",
   "metadata": {},
   "outputs": [
    {
     "data": {
      "text/plain": [
       "VotingClassifier(estimators=[('lr', LogisticRegression()),\n",
       "                             ('rf', RandomForestClassifier()), ('svc', SVC())])"
      ]
     },
     "execution_count": 7,
     "metadata": {},
     "output_type": "execute_result"
    }
   ],
   "source": [
    "from sklearn.ensemble import RandomForestClassifier\n",
    "from sklearn.ensemble import VotingClassifier\n",
    "from sklearn.linear_model import LogisticRegression\n",
    "from sklearn.svm import SVC\n",
    "\n",
    "\n",
    "log_clf = LogisticRegression()\n",
    "rnd_clf = RandomForestClassifier()\n",
    "svm_clf = SVC()\n",
    "\n",
    "voting_clf = VotingClassifier(\n",
    "    estimators=[('lr', log_clf), ('rf', rnd_clf), ('svc', svm_clf)],\n",
    "    voting='hard')\n",
    "\n",
    "voting_clf.fit(X_train, y_train)"
   ]
  },
  {
   "cell_type": "code",
   "execution_count": 10,
   "id": "0ec1caab",
   "metadata": {},
   "outputs": [
    {
     "name": "stdout",
     "output_type": "stream",
     "text": [
      "LogisticRegression 0.887\n",
      "SVC 0.991\n",
      "RandomForestClassifier 0.9915\n",
      "VotingClassifier 0.9905\n"
     ]
    }
   ],
   "source": [
    "from sklearn.metrics import accuracy_score\n",
    "for clf in (log_clf, svm_clf, rnd_clf, voting_clf):\n",
    "    clf.fit(X_train, y_train)\n",
    "    y_pred = clf.predict(X_test)\n",
    "    print(clf.__class__.__name__, accuracy_score(y_test, y_pred))"
   ]
  },
  {
   "cell_type": "markdown",
   "id": "357d2e8a",
   "metadata": {},
   "source": [
    "## Bagging and pasting in scikit learn"
   ]
  },
  {
   "cell_type": "code",
   "execution_count": 13,
   "id": "7c3ca3e6",
   "metadata": {},
   "outputs": [],
   "source": [
    "from sklearn.ensemble import BaggingClassifier\n",
    "from sklearn.tree import DecisionTreeClassifier\n",
    "\n",
    "bag_clf = BaggingClassifier(\n",
    "    DecisionTreeClassifier(), n_estimators=500,\n",
    "    max_samples=100, bootstrap=True, n_jobs=-1)\n",
    "\n",
    "bag_clf.fit(X_train, y_train)\n",
    "y_pred = bag_clf.predict(X_test)"
   ]
  },
  {
   "cell_type": "markdown",
   "id": "8357ee19",
   "metadata": {},
   "source": [
    "## Out of Bag Evaluation"
   ]
  },
  {
   "cell_type": "code",
   "execution_count": 15,
   "id": "2e11cc44",
   "metadata": {},
   "outputs": [
    {
     "data": {
      "text/plain": [
       "0.9895"
      ]
     },
     "execution_count": 15,
     "metadata": {},
     "output_type": "execute_result"
    }
   ],
   "source": [
    "bag_clf = BaggingClassifier(\n",
    "    DecisionTreeClassifier(), n_estimators=500,\n",
    "    bootstrap=True, n_jobs=-1, oob_score=True)\n",
    "\n",
    "bag_clf.fit(X_train, y_train)\n",
    "bag_clf.oob_score_"
   ]
  },
  {
   "cell_type": "code",
   "execution_count": 16,
   "id": "77b7ca5f",
   "metadata": {},
   "outputs": [
    {
     "data": {
      "text/plain": [
       "0.9895"
      ]
     },
     "execution_count": 16,
     "metadata": {},
     "output_type": "execute_result"
    }
   ],
   "source": [
    "from sklearn.metrics import accuracy_score\n",
    "y_pred = bag_clf.predict(X_test)\n",
    "accuracy_score(y_test, y_pred)"
   ]
  },
  {
   "cell_type": "code",
   "execution_count": 18,
   "id": "79ac37a0",
   "metadata": {},
   "outputs": [
    {
     "data": {
      "text/plain": [
       "array([[0., 1.],\n",
       "       [0., 1.],\n",
       "       [0., 1.],\n",
       "       ...,\n",
       "       [0., 1.],\n",
       "       [0., 1.],\n",
       "       [1., 0.]])"
      ]
     },
     "execution_count": 18,
     "metadata": {},
     "output_type": "execute_result"
    }
   ],
   "source": [
    "bag_clf.oob_decision_function_"
   ]
  },
  {
   "cell_type": "markdown",
   "id": "a62ab83f",
   "metadata": {},
   "source": [
    "## Random Patches and Random Subspaces"
   ]
  },
  {
   "cell_type": "markdown",
   "id": "cf61426b",
   "metadata": {},
   "source": [
    "# Random Forests"
   ]
  },
  {
   "cell_type": "code",
   "execution_count": 20,
   "id": "a004700a",
   "metadata": {},
   "outputs": [],
   "source": [
    "from sklearn.ensemble import RandomForestClassifier\n",
    "\n",
    "rnd_clf = RandomForestClassifier(n_estimators=500, max_leaf_nodes=16, n_jobs=-1)\n",
    "rnd_clf.fit(X_train, y_train)\n",
    "\n",
    "y_pred_rf = rnd_clf.predict(X_test)"
   ]
  },
  {
   "cell_type": "code",
   "execution_count": 21,
   "id": "2af43e4c",
   "metadata": {},
   "outputs": [],
   "source": [
    "bag_clf = BaggingClassifier(\n",
    "    DecisionTreeClassifier(splitter='ramdom', max_leaf_nodes=16),\n",
    "    n_estimators=500, max_samples=1.0, bootstrap=True, n_jobs=-1)"
   ]
  },
  {
   "cell_type": "markdown",
   "id": "96e670a6",
   "metadata": {},
   "source": [
    "## Extra-Trees"
   ]
  },
  {
   "cell_type": "markdown",
   "id": "e4a7d32d",
   "metadata": {},
   "source": [
    "## Feature Importance"
   ]
  },
  {
   "cell_type": "code",
   "execution_count": 22,
   "id": "b7120eff",
   "metadata": {},
   "outputs": [
    {
     "name": "stdout",
     "output_type": "stream",
     "text": [
      "sepal length (cm) 0.110928315595597\n",
      "sepal width (cm) 0.02510379275991173\n",
      "petal length (cm) 0.4336177538347778\n",
      "petal width (cm) 0.43035013780971354\n"
     ]
    }
   ],
   "source": [
    "from sklearn.datasets import load_iris\n",
    "iris = load_iris()\n",
    "rnd_clf = RandomForestClassifier(n_estimators=500, n_jobs=-1)\n",
    "rnd_clf.fit(iris['data'], iris['target'])\n",
    "for name, score in zip(iris['feature_names'], rnd_clf.feature_importances_):\n",
    "    print(name, score)"
   ]
  },
  {
   "cell_type": "markdown",
   "id": "6e265059",
   "metadata": {},
   "source": [
    "## Boosting"
   ]
  },
  {
   "cell_type": "markdown",
   "id": "f1fa99a9",
   "metadata": {},
   "source": [
    "### Adaboost"
   ]
  },
  {
   "cell_type": "code",
   "execution_count": 23,
   "id": "e9980356",
   "metadata": {},
   "outputs": [
    {
     "data": {
      "text/plain": [
       "AdaBoostClassifier(base_estimator=DecisionTreeClassifier(max_depth=1),\n",
       "                   learning_rate=0.5, n_estimators=200)"
      ]
     },
     "execution_count": 23,
     "metadata": {},
     "output_type": "execute_result"
    }
   ],
   "source": [
    "from sklearn.ensemble import AdaBoostClassifier\n",
    "\n",
    "ada_clf = AdaBoostClassifier(\n",
    "    DecisionTreeClassifier(max_depth=1), n_estimators=200,\n",
    "    algorithm='SAMME.R', learning_rate=0.5)\n",
    "ada_clf.fit(X_train, y_train)"
   ]
  },
  {
   "cell_type": "markdown",
   "id": "0e8f838f",
   "metadata": {},
   "source": [
    "### Gradient Boosting"
   ]
  },
  {
   "cell_type": "code",
   "execution_count": 28,
   "id": "97e48179",
   "metadata": {},
   "outputs": [],
   "source": [
    "from sklearn.tree import DecisionTreeRegressor\n",
    "\n",
    "tree_reg1 = DecisionTreeRegressor(max_depth=2)\n",
    "tree_reg1.fit(X, y)\n",
    "\n",
    "y2 = y - tree_reg1.predict(X)\n",
    "tree_reg2 = DecisionTreeRegressor(max_depth=2)\n",
    "tree_reg2.fit(X, y2)\n",
    "\n",
    "y3 = y2 - tree_reg2.predict(X)\n",
    "tree_reg3 = DecisionTreeRegressor(max_depth=2)\n",
    "tree_reg3.fit(X, y3)\n",
    "\n",
    "y_pred = sum(tree.predict(X_test) for tree in (tree_reg1, tree_reg2, tree_reg3))"
   ]
  },
  {
   "cell_type": "code",
   "execution_count": 29,
   "id": "6fdbda35",
   "metadata": {},
   "outputs": [
    {
     "data": {
      "text/plain": [
       "array([ 0.33389507, -0.05925945, -0.05925945, ...,  0.09960561,\n",
       "        0.04191418,  0.09960561])"
      ]
     },
     "execution_count": 29,
     "metadata": {},
     "output_type": "execute_result"
    }
   ],
   "source": [
    "y_pred"
   ]
  },
  {
   "cell_type": "code",
   "execution_count": 30,
   "id": "f44b4af9",
   "metadata": {},
   "outputs": [
    {
     "data": {
      "text/plain": [
       "GradientBoostingRegressor(learning_rate=1.0, max_depth=2, n_estimators=3)"
      ]
     },
     "execution_count": 30,
     "metadata": {},
     "output_type": "execute_result"
    }
   ],
   "source": [
    "from sklearn.ensemble import GradientBoostingRegressor\n",
    "\n",
    "gbrt = GradientBoostingRegressor(max_depth=2, n_estimators=3, learning_rate=1.0)\n",
    "gbrt.fit(X, y)"
   ]
  },
  {
   "cell_type": "code",
   "execution_count": 33,
   "id": "95621a7f",
   "metadata": {},
   "outputs": [
    {
     "data": {
      "text/plain": [
       "GradientBoostingRegressor(max_depth=2, n_estimators=120)"
      ]
     },
     "execution_count": 33,
     "metadata": {},
     "output_type": "execute_result"
    }
   ],
   "source": [
    "# early stopping to find optimal no of trees\n",
    "\n",
    "import numpy as np\n",
    "from sklearn.model_selection import train_test_split\n",
    "from sklearn.metrics import mean_squared_error\n",
    "\n",
    "X_train, X_val, y_train, y_val = train_test_split(X, y)\n",
    "\n",
    "gbrt = GradientBoostingRegressor(max_depth=2, n_estimators=120)\n",
    "gbrt.fit(X_train, y_train)\n",
    "\n",
    "errors = [mean_squared_error(y_val, y_pred) for y_pred in gbrt.staged_predict(X_val)]\n",
    "bst_n_estimators = np.argmin(errors) + 1\n",
    "\n",
    "gbrt_best = GradientBoostingRegressor(max_depth=2, n_estimators=bst_n_estimators)\n",
    "gbrt.fit(X_train, y_train)"
   ]
  },
  {
   "cell_type": "code",
   "execution_count": 36,
   "id": "403f676c",
   "metadata": {},
   "outputs": [],
   "source": [
    "# early stopping to stop training early\n",
    "gbrt = GradientBoostingRegressor(max_depth=2, warm_start=True)\n",
    "\n",
    "min_val_error = float('inf')\n",
    "error_going_up = 0\n",
    "for n_estimators in range(1, 120):\n",
    "    gbrt.n_estimators = n_estimators\n",
    "    gbrt.fit(X_train, y_train)\n",
    "    y_pred = gbrt.predict(X_val)\n",
    "    val_error = mean_squared_error(y_val, y_pred)\n",
    "    if val_error < min_val_error:\n",
    "        min_val_error = val_error\n",
    "        error_going_up = 0\n",
    "    else:\n",
    "        error_going_up += 1\n",
    "        if error_going_up == 5:\n",
    "            break"
   ]
  },
  {
   "cell_type": "code",
   "execution_count": 41,
   "id": "f437e16a",
   "metadata": {},
   "outputs": [
    {
     "name": "stdout",
     "output_type": "stream",
     "text": [
      "[15:27:13] WARNING: src/objective/regression_obj.cu:152: reg:linear is now deprecated in favor of reg:squarederror.\n",
      "[15:27:13] WARNING: src/objective/regression_obj.cu:152: reg:linear is now deprecated in favor of reg:squarederror.\n",
      "[0]\tvalidation_0-rmse:0.463379\n",
      "Will train until validation_0-rmse hasn't improved in 2 rounds.\n",
      "[1]\tvalidation_0-rmse:0.431489\n",
      "[2]\tvalidation_0-rmse:0.403776\n",
      "[3]\tvalidation_0-rmse:0.379971\n",
      "[4]\tvalidation_0-rmse:0.359304\n",
      "[5]\tvalidation_0-rmse:0.341918\n",
      "[6]\tvalidation_0-rmse:0.325368\n",
      "[7]\tvalidation_0-rmse:0.310185\n",
      "[8]\tvalidation_0-rmse:0.296296\n",
      "[9]\tvalidation_0-rmse:0.284416\n",
      "[10]\tvalidation_0-rmse:0.273257\n",
      "[11]\tvalidation_0-rmse:0.263881\n",
      "[12]\tvalidation_0-rmse:0.255228\n",
      "[13]\tvalidation_0-rmse:0.246623\n",
      "[14]\tvalidation_0-rmse:0.237817\n",
      "[15]\tvalidation_0-rmse:0.230066\n",
      "[16]\tvalidation_0-rmse:0.222632\n",
      "[17]\tvalidation_0-rmse:0.216028\n",
      "[18]\tvalidation_0-rmse:0.209483\n",
      "[19]\tvalidation_0-rmse:0.203832\n",
      "[20]\tvalidation_0-rmse:0.198351\n",
      "[21]\tvalidation_0-rmse:0.193506\n",
      "[22]\tvalidation_0-rmse:0.188823\n",
      "[23]\tvalidation_0-rmse:0.184662\n",
      "[24]\tvalidation_0-rmse:0.180571\n",
      "[25]\tvalidation_0-rmse:0.177028\n",
      "[26]\tvalidation_0-rmse:0.173611\n",
      "[27]\tvalidation_0-rmse:0.170535\n",
      "[28]\tvalidation_0-rmse:0.167642\n",
      "[29]\tvalidation_0-rmse:0.165048\n",
      "[30]\tvalidation_0-rmse:0.162489\n",
      "[31]\tvalidation_0-rmse:0.160438\n",
      "[32]\tvalidation_0-rmse:0.15819\n",
      "[33]\tvalidation_0-rmse:0.15591\n",
      "[34]\tvalidation_0-rmse:0.153447\n",
      "[35]\tvalidation_0-rmse:0.151743\n",
      "[36]\tvalidation_0-rmse:0.150134\n",
      "[37]\tvalidation_0-rmse:0.148299\n",
      "[38]\tvalidation_0-rmse:0.146975\n",
      "[39]\tvalidation_0-rmse:0.14539\n",
      "[40]\tvalidation_0-rmse:0.144182\n",
      "[41]\tvalidation_0-rmse:0.142842\n",
      "[42]\tvalidation_0-rmse:0.141865\n",
      "[43]\tvalidation_0-rmse:0.140843\n",
      "[44]\tvalidation_0-rmse:0.139646\n",
      "[45]\tvalidation_0-rmse:0.138603\n",
      "[46]\tvalidation_0-rmse:0.137839\n",
      "[47]\tvalidation_0-rmse:0.136943\n",
      "[48]\tvalidation_0-rmse:0.135828\n",
      "[49]\tvalidation_0-rmse:0.135051\n",
      "[50]\tvalidation_0-rmse:0.133945\n",
      "[51]\tvalidation_0-rmse:0.132934\n",
      "[52]\tvalidation_0-rmse:0.132032\n",
      "[53]\tvalidation_0-rmse:0.131064\n",
      "[54]\tvalidation_0-rmse:0.12957\n",
      "[55]\tvalidation_0-rmse:0.129043\n",
      "[56]\tvalidation_0-rmse:0.127689\n",
      "[57]\tvalidation_0-rmse:0.12701\n",
      "[58]\tvalidation_0-rmse:0.125767\n",
      "[59]\tvalidation_0-rmse:0.124752\n",
      "[60]\tvalidation_0-rmse:0.12404\n",
      "[61]\tvalidation_0-rmse:0.123447\n",
      "[62]\tvalidation_0-rmse:0.122914\n",
      "[63]\tvalidation_0-rmse:0.122333\n",
      "[64]\tvalidation_0-rmse:0.121164\n",
      "[65]\tvalidation_0-rmse:0.12022\n",
      "[66]\tvalidation_0-rmse:0.119587\n",
      "[67]\tvalidation_0-rmse:0.119185\n",
      "[68]\tvalidation_0-rmse:0.118613\n",
      "[69]\tvalidation_0-rmse:0.11815\n",
      "[70]\tvalidation_0-rmse:0.117144\n",
      "[71]\tvalidation_0-rmse:0.116661\n",
      "[72]\tvalidation_0-rmse:0.116319\n",
      "[73]\tvalidation_0-rmse:0.115528\n",
      "[74]\tvalidation_0-rmse:0.1152\n",
      "[75]\tvalidation_0-rmse:0.114282\n",
      "[76]\tvalidation_0-rmse:0.113809\n",
      "[77]\tvalidation_0-rmse:0.113463\n",
      "[78]\tvalidation_0-rmse:0.113108\n",
      "[79]\tvalidation_0-rmse:0.112393\n",
      "[80]\tvalidation_0-rmse:0.111868\n",
      "[81]\tvalidation_0-rmse:0.111528\n",
      "[82]\tvalidation_0-rmse:0.110826\n",
      "[83]\tvalidation_0-rmse:0.110301\n",
      "[84]\tvalidation_0-rmse:0.11\n",
      "[85]\tvalidation_0-rmse:0.109772\n",
      "[86]\tvalidation_0-rmse:0.109302\n",
      "[87]\tvalidation_0-rmse:0.108912\n",
      "[88]\tvalidation_0-rmse:0.108714\n",
      "[89]\tvalidation_0-rmse:0.108261\n",
      "[90]\tvalidation_0-rmse:0.107855\n",
      "[91]\tvalidation_0-rmse:0.107631\n",
      "[92]\tvalidation_0-rmse:0.107451\n",
      "[93]\tvalidation_0-rmse:0.106936\n",
      "[94]\tvalidation_0-rmse:0.106806\n",
      "[95]\tvalidation_0-rmse:0.106324\n",
      "[96]\tvalidation_0-rmse:0.106138\n",
      "[97]\tvalidation_0-rmse:0.105873\n",
      "[98]\tvalidation_0-rmse:0.105659\n",
      "[99]\tvalidation_0-rmse:0.10516\n"
     ]
    }
   ],
   "source": [
    "import xgboost\n",
    "\n",
    "xgb_reg = xgboost.XGBRegressor()\n",
    "xgb_reg.fit(X_train, y_train)\n",
    "y_pred = xgb_reg.predict(X_val)\n",
    "\n",
    "xgb_reg.fit(X_train, y_train, eval_set=[(X_val, y_val)], early_stopping_rounds=2)\n",
    "y_pred = xgb_reg.predict(X_val)"
   ]
  },
  {
   "cell_type": "markdown",
   "id": "edba56d5",
   "metadata": {},
   "source": [
    "## Stacking"
   ]
  },
  {
   "cell_type": "code",
   "execution_count": null,
   "id": "c722bfd0",
   "metadata": {},
   "outputs": [],
   "source": []
  }
 ],
 "metadata": {
  "kernelspec": {
   "display_name": "tf2",
   "language": "python",
   "name": "tf2"
  },
  "language_info": {
   "codemirror_mode": {
    "name": "ipython",
    "version": 3
   },
   "file_extension": ".py",
   "mimetype": "text/x-python",
   "name": "python",
   "nbconvert_exporter": "python",
   "pygments_lexer": "ipython3",
   "version": "3.7.10"
  }
 },
 "nbformat": 4,
 "nbformat_minor": 5
}
